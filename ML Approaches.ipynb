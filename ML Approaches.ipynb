{
 "cells": [
  {
   "cell_type": "markdown",
   "id": "3398927f",
   "metadata": {},
   "source": [
    "## PSD+SVM Method"
   ]
  },
  {
   "cell_type": "code",
   "execution_count": 3,
   "id": "4bb5637b",
   "metadata": {},
   "outputs": [],
   "source": [
    "import os\n",
    "import numpy as np\n",
    "from sklearn.model_selection import KFold\n",
    "from sklearn import svm\n",
    "from sklearn.model_selection import GridSearchCV\n",
    "from sklearn.metrics import accuracy_score\n",
    "from sklearn.metrics import f1_score\n",
    "from sklearn.linear_model import LogisticRegression\n",
    "\n",
    "from helper_functions import *\n",
    "from latency_helpers import *\n",
    "from loading_functions import *\n",
    "from file_paths import *\n",
    "from models import *\n",
    "import importlib\n",
    "\n",
    "\n",
    "import random"
   ]
  },
  {
   "cell_type": "code",
   "execution_count": 4,
   "id": "506d79bb",
   "metadata": {},
   "outputs": [],
   "source": [
    "import importlib\n",
    "import loading_functions\n",
    "importlib.reload(loading_functions)\n",
    "from loading_functions import *"
   ]
  },
  {
   "cell_type": "markdown",
   "id": "ae296122",
   "metadata": {},
   "source": [
    "### Load Features"
   ]
  },
  {
   "cell_type": "code",
   "execution_count": 14,
   "id": "964320ef",
   "metadata": {},
   "outputs": [
    {
     "name": "stdout",
     "output_type": "stream",
     "text": [
      "Loading DroneRF Dataset\n",
      "Features_DroneRF/IMG_PSD_L_1024_20/\n",
      "dataset size 2640\n",
      "shape of each item (224, 224, 3)\n",
      "(2640, 224, 224, 3)\n"
     ]
    }
   ],
   "source": [
    "feat_name = 'PSD'\n",
    "t_seg = 20 #ms\n",
    "n_per_seg = 1024\n",
    "interferences = ['WIFI', 'BLUE', 'BOTH', 'CLEAN']\n",
    "output_name = 'drones'\n",
    "feat_format = 'IMG'\n",
    "which_dataset = 'dronerf'\n",
    "output_tensor = False\n",
    "\n",
    "if which_dataset == 'dronerf':\n",
    "    print('Loading DroneRF Dataset')\n",
    "    highlow = 'L'\n",
    "    dataset = DroneRFTorch(dronerf_feat_path, feat_name, t_seg, n_per_seg,\n",
    "                       feat_format, output_name, output_tensor, highlow)\n",
    "elif which_dataset == 'dronedetect':\n",
    "    print('Loading DroneDetect Dataset')\n",
    "    dataset = DroneDetectTorch(dronedetect_feat_path, feat_name, t_seg, n_per_seg, feat_format,\n",
    "                                    output_name, output_tensor, interferences)\n",
    "X_use, y_use = dataset.get_arrays()\n",
    "\n",
    "# Set fixed number of samples\n",
    "# n_samps = 15500\n",
    "# i_test= random.sample(range(len(dataset)), n_samps)\n",
    "# # i_test= list(range(0,2712,10))\n",
    "# X_use, y_use = dataset.__getitem__(i_test)\n",
    "print(X_use.shape)"
   ]
  },
  {
   "cell_type": "markdown",
   "id": "e4d9c426",
   "metadata": {},
   "source": [
    "### Run Model"
   ]
  },
  {
   "cell_type": "code",
   "execution_count": 17,
   "id": "64491b95",
   "metadata": {},
   "outputs": [],
   "source": [
    "model = PsdSVM(t_seg, n_per_seg)"
   ]
  },
  {
   "cell_type": "code",
   "execution_count": 18,
   "id": "434649f9",
   "metadata": {},
   "outputs": [
    {
     "name": "stderr",
     "output_type": "stream",
     "text": [
      "0it [00:08, ?it/s]\n"
     ]
    },
    {
     "ename": "KeyboardInterrupt",
     "evalue": "",
     "output_type": "error",
     "traceback": [
      "\u001b[31m---------------------------------------------------------------------------\u001b[39m",
      "\u001b[31mKeyboardInterrupt\u001b[39m                         Traceback (most recent call last)",
      "\u001b[36mCell\u001b[39m\u001b[36m \u001b[39m\u001b[32mIn[18]\u001b[39m\u001b[32m, line 1\u001b[39m\n\u001b[32m----> \u001b[39m\u001b[32m1\u001b[39m accs, f1s, runts = \u001b[43mmodel\u001b[49m\u001b[43m.\u001b[49m\u001b[43mrun_cv\u001b[49m\u001b[43m(\u001b[49m\u001b[43mX_use\u001b[49m\u001b[43m,\u001b[49m\u001b[43m \u001b[49m\u001b[43my_use\u001b[49m\u001b[43m,\u001b[49m\u001b[43m \u001b[49m\u001b[43mk_fold\u001b[49m\u001b[43m=\u001b[49m\u001b[32;43m10\u001b[39;49m\u001b[43m)\u001b[49m\n",
      "\u001b[36mFile \u001b[39m\u001b[32mc:\\Users\\Windows\\Projects\\GargoyleSystems\\code\\RFClassification\\models.py:48\u001b[39m, in \u001b[36mPsdSVM.run_cv\u001b[39m\u001b[34m(self, X, y, k_fold)\u001b[39m\n\u001b[32m     46\u001b[39m         \u001b[38;5;28;01mfor\u001b[39;00m i, (train_ix, test_ix) \u001b[38;5;129;01min\u001b[39;00m tqdm(\u001b[38;5;28menumerate\u001b[39m(cv.split(X))):\n\u001b[32m     47\u001b[39m             svc = svm.SVC(kernel=\u001b[33m'\u001b[39m\u001b[33mrbf\u001b[39m\u001b[33m'\u001b[39m, C=\u001b[38;5;28mself\u001b[39m.C, gamma = \u001b[38;5;28mself\u001b[39m.gamma)\n\u001b[32m---> \u001b[39m\u001b[32m48\u001b[39m             \u001b[43msvc\u001b[49m\u001b[43m.\u001b[49m\u001b[43mfit\u001b[49m\u001b[43m(\u001b[49m\u001b[43mX\u001b[49m\u001b[43m[\u001b[49m\u001b[43mtrain_ix\u001b[49m\u001b[43m]\u001b[49m\u001b[43m,\u001b[49m\u001b[43m \u001b[49m\u001b[43my\u001b[49m\u001b[43m[\u001b[49m\u001b[43mtrain_ix\u001b[49m\u001b[43m]\u001b[49m\u001b[43m)\u001b[49m\n\u001b[32m     50\u001b[39m \u001b[38;5;66;03m#             t_start = time.time()\u001b[39;00m\n\u001b[32m     51\u001b[39m \u001b[38;5;66;03m#             y_pred = svc.predict(X[test_ix])\u001b[39;00m\n\u001b[32m     52\u001b[39m \u001b[38;5;66;03m#             t_dur = time.time()-t_start\u001b[39;00m\n\u001b[32m     53\u001b[39m \u001b[38;5;66;03m#             t_batch_avg = t_dur/len(y_pred)\u001b[39;00m\n\u001b[32m     54\u001b[39m             \n\u001b[32m     55\u001b[39m                         \u001b[38;5;66;03m# predict on the test data (by each sample)\u001b[39;00m\n\u001b[32m     56\u001b[39m             y_pred, t_indiv = atomic_benchmark_estimator(svc, X[test_ix], output_type=y.dtype, verbose=\u001b[38;5;28;01mFalse\u001b[39;00m)\n",
      "\u001b[36mFile \u001b[39m\u001b[32mc:\\Users\\Windows\\Projects\\GargoyleSystems\\code\\RFClassification\\.venv\\Lib\\site-packages\\sklearn\\base.py:1348\u001b[39m, in \u001b[36m_fit_context.<locals>.decorator.<locals>.wrapper\u001b[39m\u001b[34m(estimator, *args, **kwargs)\u001b[39m\n\u001b[32m   1347\u001b[39m \u001b[38;5;28;01mdef\u001b[39;00m\u001b[38;5;250m \u001b[39m\u001b[34mdecorator\u001b[39m(fit_method):\n\u001b[32m-> \u001b[39m\u001b[32m1348\u001b[39m     \u001b[38;5;129m@functools\u001b[39m.wraps(fit_method)\n\u001b[32m   1349\u001b[39m     \u001b[38;5;28;01mdef\u001b[39;00m\u001b[38;5;250m \u001b[39m\u001b[34mwrapper\u001b[39m(estimator, *args, **kwargs):\n\u001b[32m   1350\u001b[39m         global_skip_validation = get_config()[\u001b[33m\"\u001b[39m\u001b[33mskip_parameter_validation\u001b[39m\u001b[33m\"\u001b[39m]\n\u001b[32m   1352\u001b[39m         \u001b[38;5;66;03m# we don't want to validate again for each call to partial_fit\u001b[39;00m\n",
      "\u001b[31mKeyboardInterrupt\u001b[39m: "
     ]
    }
   ],
   "source": [
    "accs, f1s, runts = model.run_cv(X_use, y_use, k_fold=10)"
   ]
  },
  {
   "cell_type": "code",
   "execution_count": 9,
   "id": "cc6b037a",
   "metadata": {},
   "outputs": [
    {
     "name": "stdout",
     "output_type": "stream",
     "text": [
      "(1744, 513)\n",
      "(1755, 513)\n",
      "(1762, 513)\n",
      "(1763, 513)\n",
      "(1780, 513)\n"
     ]
    }
   ],
   "source": [
    "for icv in range(5):\n",
    "    print(model.cv_models[icv].support_vectors_.shape)"
   ]
  },
  {
   "cell_type": "code",
   "execution_count": 10,
   "id": "0241d15f",
   "metadata": {},
   "outputs": [
    {
     "data": {
      "text/plain": [
       "np.float64(12408.4)"
      ]
     },
     "execution_count": 10,
     "metadata": {},
     "output_type": "execute_result"
    }
   ],
   "source": [
    "np.mean([12345,12395,12450,12469,12383])"
   ]
  },
  {
   "cell_type": "code",
   "execution_count": 11,
   "id": "6f42a28e",
   "metadata": {
    "scrolled": true
   },
   "outputs": [
    {
     "name": "stdout",
     "output_type": "stream",
     "text": [
      "Fold 1 Best Parameters: {'C': 512, 'gamma': 32}\n",
      "Fold 1: Accuracy: 0.797,\t F1: 0.814, \t Runtime: 0.000533\n",
      "Fold 2 Best Parameters: {'C': 512, 'gamma': 32}\n",
      "Fold 2: Accuracy: 0.792,\t F1: 0.817, \t Runtime: 0.000536\n",
      "Fold 3 Best Parameters: {'C': 512, 'gamma': 32}\n",
      "Fold 3: Accuracy: 0.831,\t F1: 0.844, \t Runtime: 0.000582\n",
      "Fold 4 Best Parameters: {'C': 512, 'gamma': 128}\n",
      "Fold 4: Accuracy: 0.812,\t F1: 0.83, \t Runtime: 0.000886\n",
      "Fold 5 Best Parameters: {'C': 512, 'gamma': 128}\n",
      "Fold 5: Accuracy: 0.831,\t F1: 0.845, \t Runtime: 0.000891\n",
      "PSD+SVM 5 Fold GridSearch CV acc: 0.813, F1: 0.83, Run-time: 0.686ms\n"
     ]
    }
   ],
   "source": [
    "# search through parameters\n",
    "Cs=list(map(lambda x:pow(2,x),range(-3,10,2)))\n",
    "gammas=list(map(lambda x:pow(2,x),range(-3,10,2)))\n",
    "parameters = {'C':Cs, 'gamma':gammas}\n",
    "\n",
    "k_fold=5\n",
    "\n",
    "accs, f1s, runts, best_params = model.run_gridsearch(X_use, y_use, parameters, k_fold)"
   ]
  },
  {
   "cell_type": "markdown",
   "id": "f2ef0bbf",
   "metadata": {},
   "source": [
    "### Visualize Results"
   ]
  },
  {
   "cell_type": "code",
   "execution_count": 12,
   "id": "7c4f795b",
   "metadata": {},
   "outputs": [
    {
     "data": {
      "image/png": "[encoded data removed]",
      "text/plain": [
       "<Figure size 640x480 with 2 Axes>"
      ]
     },
     "metadata": {},
     "output_type": "display_data"
    }
   ],
   "source": [
    "# Set-up train test split\n",
    "from sklearn.model_selection import train_test_split\n",
    "X_train, X_test, y_train, y_test = train_test_split(X_use, \n",
    "                                                    y_use, \n",
    "                                                    test_size=0.33, \n",
    "                                                    random_state=None)\n",
    "\n",
    "# Train & Test\n",
    "model.train(X_train, y_train)\n",
    "preds = model.predict(X_test)\n",
    "show_confusion_matrix(y_test, preds)"
   ]
  },
  {
   "cell_type": "markdown",
   "id": "108d348e",
   "metadata": {},
   "source": [
    "### Save Model"
   ]
  },
  {
   "cell_type": "code",
   "execution_count": 10,
   "id": "a4421ae3",
   "metadata": {},
   "outputs": [
    {
     "name": "stdout",
     "output_type": "stream",
     "text": [
      "Model saved as: ../temp_figs/SVM_PSD_1024_20_1\n"
     ]
    }
   ],
   "source": [
    "to_train_all = True # whether to retrain using all the data\n",
    "model_name = which_dataset+'_'+'SVM'+'_'+str(feat_name)+'_'+str(n_per_seg)+'_'+str(t_seg)+'_'+str(int(to_train_all))\n",
    "model_path = '../temp_figs/'\n",
    "\n",
    "if to_train_all:\n",
    "    model.train(X_use, y_use)\n",
    "\n",
    "model.save(model_path, model_name)\n",
    "\n",
    "# pickle.dump(svc, open(model_path+model_name, 'wb'))"
   ]
  },
  {
   "cell_type": "markdown",
   "id": "dc35c1e0",
   "metadata": {},
   "source": [
    "-----------------"
   ]
  },
  {
   "cell_type": "code",
   "execution_count": 3,
   "id": "4487e845",
   "metadata": {},
   "outputs": [],
   "source": [
    "# import loading_functions\n",
    "# importlib.reload(loading_functions)\n",
    "# from loading_functions import *"
   ]
  },
  {
   "cell_type": "markdown",
   "id": "205f95af",
   "metadata": {},
   "source": [
    "## Pilot Test- Try Model on GamutRF data"
   ]
  },
  {
   "cell_type": "code",
   "execution_count": 2,
   "id": "e1224a05",
   "metadata": {},
   "outputs": [
    {
     "name": "stderr",
     "output_type": "stream",
     "text": [
      "100%|███████████████████████████████████████| 115/115 [00:00<00:00, 2255.41it/s]\n"
     ]
    }
   ],
   "source": [
    "data_path = '/home/kzhou/Data/S3/leesburg_worker1/Features/'\n",
    "Xgamut = load_gamut_features(data_path, 'psd')"
   ]
  },
  {
   "cell_type": "code",
   "execution_count": 7,
   "id": "1580c037",
   "metadata": {},
   "outputs": [
    {
     "data": {
      "text/plain": [
       "1.0"
      ]
     },
     "execution_count": 7,
     "metadata": {},
     "output_type": "execute_result"
    }
   ],
   "source": [
    "# normalize data\n",
    "## Apply normalization\n",
    "X_gamut_norm = Xgamut\n",
    "for n in range(len(Xgamut)):\n",
    "    X_gamut_norm[n] = Xgamut[n]/max(Xgamut[n])\n",
    "\n",
    "X_gamut_norm.max()"
   ]
  },
  {
   "cell_type": "code",
   "execution_count": 8,
   "id": "700b4e13",
   "metadata": {},
   "outputs": [],
   "source": [
    "# Feed data through trained SVM model\n",
    "y_gamut_pred = model.predict(X_gamut_norm)"
   ]
  },
  {
   "cell_type": "code",
   "execution_count": 9,
   "id": "5447b5e4",
   "metadata": {},
   "outputs": [
    {
     "data": {
      "text/plain": [
       "array([0, 0, 0, 0, 0, 0, 0, 0, 0, 0, 0, 0, 0, 1, 1, 1, 1, 1, 1, 1, 0, 1,\n",
       "       1, 1, 1, 1, 1, 1, 1, 1, 1, 1, 1, 1, 1, 1, 1, 0, 1, 1, 1, 1, 1, 1,\n",
       "       1, 0, 1, 1, 0, 0, 1, 1, 1, 1, 0, 1, 1, 0, 1, 1, 0, 1, 1, 0, 0, 0,\n",
       "       0, 0, 1, 1, 0, 0, 0, 0, 0, 0, 0, 0, 0, 0, 0, 0, 0, 0, 1, 0, 0, 0,\n",
       "       1, 0, 1, 1, 1, 0, 1, 0, 0, 0, 0, 0, 0, 0, 1, 1, 1, 0, 0, 0, 0, 0,\n",
       "       0, 0, 0, 0, 0, 0, 0, 0, 0, 0, 0, 0, 1, 1, 1, 1, 1, 1, 0, 1, 1, 1,\n",
       "       0, 0, 0, 0, 0, 0, 0, 0, 0, 0, 0, 0, 1, 1, 0, 0, 0, 0, 1, 1, 1, 0,\n",
       "       0, 1, 1, 1, 1, 0, 1, 1, 0, 0, 0, 0, 1, 0, 0, 0, 0, 0, 0, 1, 0, 0,\n",
       "       0, 1, 1, 0, 1, 1, 0, 1, 1, 0, 1, 1, 1, 1, 0, 1, 1, 1, 1, 0, 1, 1,\n",
       "       1, 1, 1, 0, 1, 0, 1, 1, 1, 1, 0, 0, 0, 1, 1, 0, 1, 1, 0, 0, 0, 1,\n",
       "       0, 0, 1, 0, 0, 0, 0, 1, 1, 0, 1, 0, 1, 1, 1, 0, 1, 0, 0, 1, 1, 0,\n",
       "       0, 0, 1, 0, 0, 0, 1, 0, 1, 0, 0, 1, 1, 1, 1, 1, 1, 1, 0, 1, 1, 1,\n",
       "       1, 1, 1, 1, 1, 1, 0, 1, 0, 1, 1, 1, 0, 0, 0, 0, 0, 0, 0, 0, 0, 0,\n",
       "       0, 0, 1, 0, 1, 0, 0, 1, 1, 0, 0, 0, 1, 0, 1, 0, 0, 0, 1, 1, 1, 1,\n",
       "       1, 1, 1, 0, 0, 0, 0, 0, 1, 0, 0, 1, 1, 0, 1, 0, 1, 1, 1, 0, 1, 0,\n",
       "       1, 1, 1, 1, 0, 1, 0, 1, 1, 1, 1, 0, 0, 0, 0, 0, 0, 0, 0, 0, 1, 0,\n",
       "       1, 0, 1, 0, 0, 0, 0, 1, 1, 0, 0, 0, 0, 1, 0, 0, 0, 0, 0, 0, 0, 1,\n",
       "       1, 0, 1, 1, 1, 1, 0, 1, 1, 1, 0, 0, 1, 1, 0, 1, 0, 0, 1, 1, 0, 0,\n",
       "       0, 0, 1, 1, 1, 1, 1, 0, 1, 0, 1, 1, 0, 0, 1, 1, 1, 1, 1, 1, 0, 1,\n",
       "       1, 1, 1, 0, 0, 0, 0, 1, 0, 1, 1, 0, 1, 0, 1, 0, 1, 1, 1, 0, 0, 1,\n",
       "       0, 1, 1, 1, 1, 1, 1, 1, 1, 1, 1, 1, 1, 1, 1, 0, 0, 0, 0, 0, 0, 0,\n",
       "       0, 0, 0, 0, 0, 0, 0, 0, 0, 0, 1, 1, 1, 1, 1, 0, 1, 0, 0, 0, 0, 0,\n",
       "       0, 0, 0, 0, 0, 0, 0, 0, 0, 0, 0, 0, 1, 0, 0, 0, 1, 1, 0, 0, 0, 0,\n",
       "       0, 0, 0, 0, 0, 0, 0, 0, 0, 0, 1, 0, 1, 1, 0, 1, 1, 1, 1, 0, 1, 0,\n",
       "       0, 1, 1, 1, 1, 1, 0, 0, 0, 0, 1, 1, 1, 0, 1, 1, 0, 1, 0, 0, 1, 0,\n",
       "       0, 0, 0, 0, 0, 0, 0, 0, 0, 0, 0, 0, 0, 0, 0, 1, 0, 1, 0, 0, 1, 0,\n",
       "       0, 0, 1, 1, 1, 1, 0, 1, 1, 1, 1, 1, 1, 0, 0, 0, 0, 0, 0, 0, 0, 0,\n",
       "       0, 1, 1, 0, 1, 0, 0, 0, 1, 1, 0, 1, 0, 1, 1, 0, 0, 0, 1, 0, 1, 0,\n",
       "       1, 1, 1, 0, 0, 0, 0, 0, 0, 0, 0, 0, 0, 0, 0, 0, 1, 0, 0, 0, 0, 0,\n",
       "       0, 0, 0, 1, 0, 1, 0, 0, 1, 1, 0, 0, 0, 0, 1, 0, 0, 1, 0, 1, 0, 0,\n",
       "       0, 0, 0, 0, 1, 1, 1, 0, 0, 0, 0, 0, 1, 0, 0, 1, 1, 1, 1, 0, 0, 0,\n",
       "       0, 0, 0, 0, 0, 0, 0, 0, 0, 0, 0, 0])"
      ]
     },
     "execution_count": 9,
     "metadata": {},
     "output_type": "execute_result"
    }
   ],
   "source": [
    "y_gamut_pred"
   ]
  }
 ],
 "metadata": {
  "kernelspec": {
   "display_name": "rfclassification",
   "language": "python",
   "name": "python3"
  },
  "language_info": {
   "codemirror_mode": {
    "name": "ipython",
    "version": 3
   },
   "file_extension": ".py",
   "mimetype": "text/x-python",
   "name": "python",
   "nbconvert_exporter": "python",
   "pygments_lexer": "ipython3",
   "version": "3.11.6"
  }
 },
 "nbformat": 4,
 "nbformat_minor": 5
}
